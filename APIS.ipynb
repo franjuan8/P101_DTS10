{
 "cells": [
  {
   "cell_type": "code",
   "execution_count": 19,
   "metadata": {},
   "outputs": [],
   "source": [
    "import pandas as pd\n",
    "import numpy as np\n",
    "from sklearn.metrics.pairwise import cosine_similarity\n",
    "from sklearn.utils.extmath import randomized_svd\n",
    "from sklearn.feature_extraction.text import TfidfVectorizer"
   ]
  },
  {
   "cell_type": "code",
   "execution_count": 20,
   "metadata": {},
   "outputs": [],
   "source": [
    "df = pd.read_csv('./movies.csv',encoding='utf-8')"
   ]
  },
  {
   "attachments": {},
   "cell_type": "markdown",
   "metadata": {},
   "source": [
    "### Funcion pelicula_mes"
   ]
  },
  {
   "cell_type": "code",
   "execution_count": 21,
   "metadata": {},
   "outputs": [],
   "source": [
    "# Primera funcion\n",
    "def peliculas_mes(mes):\n",
    "    '''Se ingresa el mes y la funcion retorna la cantidad de peliculas que se estrenaron ese mes historicamente'''\n",
    "    mes = mes.lower().strip()\n",
    "    cantidad = len(df.loc[df['month'] == mes, 'title'])\n",
    "    return {'mes':mes,'cantidad':cantidad}\n"
   ]
  },
  {
   "cell_type": "code",
   "execution_count": 22,
   "metadata": {},
   "outputs": [
    {
     "data": {
      "text/plain": [
       "{'mes': 'enero', 'cantidad': 5912}"
      ]
     },
     "execution_count": 22,
     "metadata": {},
     "output_type": "execute_result"
    }
   ],
   "source": [
    "peliculas_mes('enero')"
   ]
  },
  {
   "attachments": {},
   "cell_type": "markdown",
   "metadata": {},
   "source": [
    "### Funcion peliculas_dia"
   ]
  },
  {
   "cell_type": "code",
   "execution_count": 23,
   "metadata": {},
   "outputs": [],
   "source": [
    "def peliculas_dia(dia):\n",
    "    '''Se ingresa el dia y la funcion retorna la cantidad de peliculas que se estrebaron ese dia historicamente'''\n",
    "    dia = dia.lower().strip()\n",
    "    cantidad = len(df.loc[df['day'] == dia, 'title'])\n",
    "    return {'dia':dia, 'cantidad':cantidad}"
   ]
  },
  {
   "cell_type": "code",
   "execution_count": 24,
   "metadata": {},
   "outputs": [
    {
     "data": {
      "text/plain": [
       "{'dia': 'lunes', 'cantidad': 3503}"
      ]
     },
     "execution_count": 24,
     "metadata": {},
     "output_type": "execute_result"
    }
   ],
   "source": [
    "peliculas_dia('lunes')"
   ]
  },
  {
   "attachments": {},
   "cell_type": "markdown",
   "metadata": {},
   "source": [
    "### Funcion franquicia"
   ]
  },
  {
   "cell_type": "code",
   "execution_count": 25,
   "metadata": {},
   "outputs": [],
   "source": [
    "def franquicia(franquicia):\n",
    "    '''Se ingresa la franquicia, retornando la cantidad de peliculas, ganancia total y promedio'''\n",
    "    franquicia = franquicia.lower().strip()\n",
    "    cantidad = len(df.loc[df[\"belongs_to_collection\"] == franquicia])\n",
    "    ganancia_total = df[\"revenue\"].loc[df[\"belongs_to_collection\"] == franquicia].sum()\n",
    "    ganancia_promedio = ganancia_total/cantidad\n",
    "    return {'franquicia':franquicia, 'cantidad':cantidad, 'ganancia_total':ganancia_total, 'ganancia_promedio':ganancia_promedio}"
   ]
  },
  {
   "cell_type": "code",
   "execution_count": 26,
   "metadata": {},
   "outputs": [
    {
     "data": {
      "text/plain": [
       "{'franquicia': 'toy story collection',\n",
       " 'cantidad': 3,\n",
       " 'ganancia_total': 1937890605.0,\n",
       " 'ganancia_promedio': 645963535.0}"
      ]
     },
     "execution_count": 26,
     "metadata": {},
     "output_type": "execute_result"
    }
   ],
   "source": [
    "franquicia('toy story collection')"
   ]
  },
  {
   "attachments": {},
   "cell_type": "markdown",
   "metadata": {},
   "source": [
    "### Funcion peliculas_pais"
   ]
  },
  {
   "cell_type": "code",
   "execution_count": 27,
   "metadata": {},
   "outputs": [],
   "source": [
    "def peliculas_pais(pais): \n",
    "    pais = pais.title()\n",
    "    cantidad = 0\n",
    "    lista = df[\"production_countries\"]\n",
    "    for i in range(len(lista)):\n",
    "        if lista[i] is None:\n",
    "            continue\n",
    "        if type(lista[i]) is not list and lista[i] == pais:\n",
    "            cantidad += 1\n",
    "        if pais in lista[i]:\n",
    "            cantidad += 1\n",
    "    return {'pais':pais, 'cantidad':cantidad}"
   ]
  },
  {
   "cell_type": "code",
   "execution_count": 28,
   "metadata": {},
   "outputs": [
    {
     "data": {
      "text/plain": [
       "{'pais': 'United Kingdom', 'cantidad': 4091}"
      ]
     },
     "execution_count": 28,
     "metadata": {},
     "output_type": "execute_result"
    }
   ],
   "source": [
    "peliculas_pais('United Kingdom')"
   ]
  },
  {
   "attachments": {},
   "cell_type": "markdown",
   "metadata": {},
   "source": [
    "### Funcion productoras"
   ]
  },
  {
   "cell_type": "code",
   "execution_count": 29,
   "metadata": {},
   "outputs": [],
   "source": [
    "def productoras(productora:str):\n",
    "    '''Ingresas la productora, retornando la ganancia toal y la cantidad de peliculas que produjeron'''\n",
    "    productora = productora.title()\n",
    "    ganancia_total = 0\n",
    "    cantidad = 0\n",
    "    lista = df[\"production_companies\"]\n",
    "    for i in range(len(lista)):\n",
    "        if lista[i] is None:\n",
    "            continue\n",
    "        if type(lista[i]) is not list and lista[i] == productora:\n",
    "            cantidad += 1\n",
    "            ganancia = df[\"revenue\"][i]\n",
    "            ganancia_total += ganancia\n",
    "        if productora in lista[i]:\n",
    "            cantidad += 1\n",
    "            ganancia = df[\"revenue\"][i]\n",
    "            ganancia_total += ganancia\n",
    "    \n",
    "    \n",
    "    return {'productora': productora, 'ganancia_total': ganancia_total, 'cantidad': cantidad}\n"
   ]
  },
  {
   "cell_type": "code",
   "execution_count": 30,
   "metadata": {},
   "outputs": [
    {
     "data": {
      "text/plain": [
       "{'productora': 'Pixar Animation Studios',\n",
       " 'ganancia_total': 11188533734.0,\n",
       " 'cantidad': 52}"
      ]
     },
     "execution_count": 30,
     "metadata": {},
     "output_type": "execute_result"
    }
   ],
   "source": [
    "productoras('Pixar Animation Studios')"
   ]
  },
  {
   "attachments": {},
   "cell_type": "markdown",
   "metadata": {},
   "source": [
    "### Funcion retorno"
   ]
  },
  {
   "cell_type": "code",
   "execution_count": 31,
   "metadata": {},
   "outputs": [],
   "source": [
    "def retorno(pelicula):\n",
    "    '''Ingresas la pelicula, retornando la inversion, la ganancia, el retorno y el año en el que se lanzo'''\n",
    "    pelicula = pelicula.title()\n",
    "    inversion = sum(df[\"budget\"][df[\"title\"] == pelicula])\n",
    "    ganancia = sum(df[\"revenue\"][df[\"title\"] == pelicula])\n",
    "    retorno_dos = sum(df[\"return\"][df[\"title\"] == pelicula])\n",
    "    year = df[\"release_year\"][df[\"title\"] == pelicula].item()\n",
    "    return {'pelicula':pelicula,'inversion':inversion,'ganancia':ganancia,'retorno':retorno_dos,'anio':year}"
   ]
  },
  {
   "cell_type": "code",
   "execution_count": 32,
   "metadata": {},
   "outputs": [
    {
     "data": {
      "text/plain": [
       "{'pelicula': 'Toy Story',\n",
       " 'inversion': 30000000,\n",
       " 'ganancia': 373554033.0,\n",
       " 'retorno': 12.4518011,\n",
       " 'anio': 1995}"
      ]
     },
     "execution_count": 32,
     "metadata": {},
     "output_type": "execute_result"
    }
   ],
   "source": [
    "retorno('toy story')"
   ]
  },
  {
   "attachments": {},
   "cell_type": "markdown",
   "metadata": {},
   "source": [
    "### Funcion recomendacion"
   ]
  },
  {
   "cell_type": "code",
   "execution_count": 33,
   "metadata": {},
   "outputs": [],
   "source": [
    "# El Vectorizador TfidfVectorizer con parámetros de reduccion procesamiento\n",
    "df['genres'].fillna('', inplace=True)\n",
    "vectorizar = TfidfVectorizer(min_df=10, max_df=0.5, ngram_range=(1,2))\n",
    "\n",
    "# Vectorizamos, ajustamos y transformamos el texto de la columna \"title\" del DataFrame\n",
    "X = vectorizar.fit_transform(df['genres'])\n",
    "\n",
    "# Calcular la matriz de similitud de coseno con una matriz reducida de 7000\n",
    "similarity_matrix = cosine_similarity(X[:1250,:])\n",
    "\n",
    "# Obtenemos la descomposición en valores singulares aleatoria de la matriz de similitud de coseno con 10 componentes\n",
    "n_components = 10\n",
    "U, Sigma, VT = randomized_svd(similarity_matrix, n_components=n_components)\n",
    "\n",
    "# Construir la matriz reducida de similitud de coseno\n",
    "reduced_similarity_matrix = U.dot(np.diag(Sigma)).dot(VT)"
   ]
  },
  {
   "cell_type": "code",
   "execution_count": 34,
   "metadata": {},
   "outputs": [],
   "source": [
    "def recomendacion(titulo:str):\n",
    "    '''Ingresas un nombre de pelicula y te recomienda las similares en una lista'''\n",
    "    titulo = titulo.title()\n",
    "    #Ubicamos el indice del titulo pasado como parametro en la columna 'title' del dts user_item\n",
    "    indice = np.where(df['title'] == titulo)[0][0]\n",
    "    #Vemos los indices de aquellas puntuaciones y caracteristicas similares hacia el titulo \n",
    "    puntuaciones_similitud = reduced_similarity_matrix[indice,:]\n",
    "    # Se ordena los indicies de menor a mayor\n",
    "    puntuacion_ordenada = np.argsort(puntuaciones_similitud)[::-1]\n",
    "    # Que solo 5 nos indique \n",
    "    top_indices = puntuacion_ordenada[:5]\n",
    "    \n",
    "    return df.loc[top_indices, 'title'].tolist()"
   ]
  },
  {
   "cell_type": "code",
   "execution_count": 35,
   "metadata": {},
   "outputs": [
    {
     "data": {
      "text/plain": [
       "['Little Big League',\n",
       " 'Big Bully',\n",
       " 'Ri¢hie Ri¢h',\n",
       " 'The Air Up There',\n",
       " 'Life With Mikey']"
      ]
     },
     "execution_count": 35,
     "metadata": {},
     "output_type": "execute_result"
    }
   ],
   "source": [
    "recomendacion('toy story')"
   ]
  },
  {
   "cell_type": "code",
   "execution_count": null,
   "metadata": {},
   "outputs": [],
   "source": []
  }
 ],
 "metadata": {
  "kernelspec": {
   "display_name": "venv",
   "language": "python",
   "name": "python3"
  },
  "language_info": {
   "codemirror_mode": {
    "name": "ipython",
    "version": 3
   },
   "file_extension": ".py",
   "mimetype": "text/x-python",
   "name": "python",
   "nbconvert_exporter": "python",
   "pygments_lexer": "ipython3",
   "version": "3.9.2"
  },
  "orig_nbformat": 4
 },
 "nbformat": 4,
 "nbformat_minor": 2
}
